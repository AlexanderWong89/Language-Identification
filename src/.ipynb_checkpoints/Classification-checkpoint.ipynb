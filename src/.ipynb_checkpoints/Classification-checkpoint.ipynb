{
 "cells": [
  {
   "cell_type": "code",
   "execution_count": 1,
   "metadata": {},
   "outputs": [],
   "source": [
    "import pandas as pd\n",
    "\n",
    "import scipy\n",
    "import re\n",
    "import string\n",
    "import nltk\n",
    "import numpy\n",
    "import math\n",
    "import matplotlib.pyplot as plt\n",
    "from sklearn.metrics import classification_report"
   ]
  },
  {
   "cell_type": "code",
   "execution_count": 2,
   "metadata": {},
   "outputs": [],
   "source": [
    "train = pd.read_csv('../data/processed/df_train.csv',index_col=0)\n"
   ]
  },
  {
   "cell_type": "code",
   "execution_count": 3,
   "metadata": {},
   "outputs": [],
   "source": [
    "test = pd.read_csv('../data/processed/df_test.csv',index_col=0)"
   ]
  },
  {
   "cell_type": "code",
   "execution_count": 4,
   "metadata": {},
   "outputs": [],
   "source": [
    "test_set_labels = pd.read_csv('../data/processed/test_set_labels.csv',index_col=0)"
   ]
  },
  {
   "cell_type": "markdown",
   "metadata": {},
   "source": [
    "## Create a function that would perform identification on 1 test input"
   ]
  },
  {
   "cell_type": "code",
   "execution_count": 5,
   "metadata": {},
   "outputs": [],
   "source": [
    "test_case1 = list(test['cs'])\n",
    "test_case2 = list(test['en'])\n",
    "test_case3 = list(test['sv'])\n",
    "test_case4 = list(test['de'])\n",
    "test_case5 = list(test['es'])\n",
    "test_case6 = list(test['fr'])\n"
   ]
  },
  {
   "cell_type": "code",
   "execution_count": 6,
   "metadata": {},
   "outputs": [],
   "source": [
    "def identifyLanguage(traindf, testInput):\n",
    "    #initialize empty dict\n",
    "    entropy_dict = {}\n",
    "    #iterate through each column in train dataset (1 column = 1 language)\n",
    "    for (columnName, columnData) in traindf.iteritems(): \n",
    "        #relative entropy taken from Scipy\n",
    "        entropy = scipy.stats.entropy(testInput, qk=columnData)\n",
    "        #add key(language), value(entropy) pair to dict\n",
    "        entropy_dict[columnName] = entropy\n",
    "    #return minimum value for most likely language\n",
    "    return(min(entropy_dict, key=entropy_dict.get))\n"
   ]
  },
  {
   "cell_type": "code",
   "execution_count": 7,
   "metadata": {},
   "outputs": [
    {
     "name": "stdout",
     "output_type": "stream",
     "text": [
      "cs\n",
      "en\n",
      "sv\n",
      "de\n",
      "es\n",
      "fr\n"
     ]
    }
   ],
   "source": [
    "print(identifyLanguage(train, test_case1))\n",
    "print(identifyLanguage(train, test_case2))\n",
    "print(identifyLanguage(train, test_case3))\n",
    "print(identifyLanguage(train, test_case4))\n",
    "print(identifyLanguage(train, test_case5))\n",
    "print(identifyLanguage(train, test_case6))"
   ]
  },
  {
   "cell_type": "markdown",
   "metadata": {},
   "source": [
    "# Demo for Aurelien"
   ]
  },
  {
   "cell_type": "markdown",
   "metadata": {},
   "source": [
    "#### Some functions create to preprocess new text. Taken from preprocessing notebook"
   ]
  },
  {
   "cell_type": "code",
   "execution_count": 8,
   "metadata": {},
   "outputs": [],
   "source": [
    "def word2ngrams(text, n, exact=True):\n",
    "    \"\"\" Convert text into character ngrams. \"\"\"\n",
    "    return [\"\".join(j) for j in zip(*[text[i:] for i in range(n)])]"
   ]
  },
  {
   "cell_type": "code",
   "execution_count": 9,
   "metadata": {},
   "outputs": [],
   "source": [
    "def preprocessInput(text):\n",
    "    #lower case\n",
    "    processed = text.lower()\n",
    "    #remove numbers\n",
    "    processed = re.sub(\"\\d+\", \" \", processed)\n",
    "    #remove punctuation\n",
    "    processed = re.sub('['+string.punctuation+']', '', processed)\n",
    "    #remove whitespace\n",
    "    processed = processed.strip()\n",
    "    #word tokenize\n",
    "    processed = nltk.word_tokenize(processed)\n",
    "    return processed"
   ]
  },
  {
   "cell_type": "code",
   "execution_count": 10,
   "metadata": {},
   "outputs": [],
   "source": [
    "def createTrigrams(wordTokens,traindf):\n",
    "    trigrams = []\n",
    "    for j in wordTokens:\n",
    "        x = word2ngrams(j,3)\n",
    "        trigrams.append(x)\n",
    "        trigrams = [x for x in trigrams if x != []]        \n",
    "    trigrams_joined = [j for i in trigrams for j in i]\n",
    "    b = pd.Series(trigrams_joined)\n",
    "    trigrams_joined_series_value_counts = b.value_counts()\n",
    "    tempdf = pd.DataFrame(index=train.index)\n",
    "    trigrams_joined_series_value_counts_df = pd.DataFrame(trigrams_joined_series_value_counts)\n",
    "    df_test = tempdf.join(trigrams_joined_series_value_counts_df)\n",
    "    df_test = df_test.div(df_test.sum())\n",
    "    df_test = df_test.fillna(0)\n",
    "    test_case = list(df_test.iloc[:, 0])\n",
    "    return test_case"
   ]
  },
  {
   "cell_type": "markdown",
   "metadata": {},
   "source": [
    "## Aurelien please key in new input text here:"
   ]
  },
  {
   "cell_type": "code",
   "execution_count": 11,
   "metadata": {},
   "outputs": [],
   "source": [
    "inputText = 'Lors de ses brillantes études de droit à luniversité Brown, Joe Paterno joue au football américain et est entraîné par Rip Engle. Ce dernier,'"
   ]
  },
  {
   "cell_type": "markdown",
   "metadata": {},
   "source": [
    "### Run following code to see if it works"
   ]
  },
  {
   "cell_type": "code",
   "execution_count": 12,
   "metadata": {},
   "outputs": [],
   "source": [
    "processed = preprocessInput(inputText)"
   ]
  },
  {
   "cell_type": "code",
   "execution_count": 13,
   "metadata": {
    "scrolled": true
   },
   "outputs": [],
   "source": [
    "test_case_final = createTrigrams(processed,train)"
   ]
  },
  {
   "cell_type": "code",
   "execution_count": 14,
   "metadata": {},
   "outputs": [
    {
     "name": "stdout",
     "output_type": "stream",
     "text": [
      "fr\n"
     ]
    }
   ],
   "source": [
    "print(identifyLanguage(train, test_case_final))"
   ]
  },
  {
   "cell_type": "markdown",
   "metadata": {},
   "source": [
    "# Using Train Set to Perform language identification on Test Set"
   ]
  },
  {
   "cell_type": "code",
   "execution_count": null,
   "metadata": {},
   "outputs": [],
   "source": []
  },
  {
   "cell_type": "code",
   "execution_count": 16,
   "metadata": {},
   "outputs": [],
   "source": [
    "predictionList = []\n",
    "#loop through columns in test df (each column is 1 test sample)\n",
    "for (columnNamei, columnDatai) in test.iteritems():\n",
    "    #use identifylanguage function write earlier\n",
    "    prediction = identifyLanguage(train, columnDatai)\n",
    "    #append predictions into list\n",
    "    predictionList.append(prediction)"
   ]
  },
  {
   "cell_type": "code",
   "execution_count": 17,
   "metadata": {
    "scrolled": true
   },
   "outputs": [],
   "source": [
    "#This is my y_test\n",
    "testList = test_set_labels['language']"
   ]
  },
  {
   "cell_type": "code",
   "execution_count": 20,
   "metadata": {},
   "outputs": [],
   "source": [
    "#just to make the classification report look nice\n",
    "target_label = train.columns"
   ]
  },
  {
   "cell_type": "code",
   "execution_count": 21,
   "metadata": {},
   "outputs": [
    {
     "name": "stdout",
     "output_type": "stream",
     "text": [
      "              precision    recall  f1-score   support\n",
      "\n",
      "          bg       1.00      0.99      1.00       394\n",
      "          cs       0.99      1.00      1.00       315\n",
      "          da       1.00      1.00      1.00       693\n",
      "          de       1.00      1.00      1.00       643\n",
      "          el       1.00      1.00      1.00       383\n",
      "          en       1.00      1.00      1.00       599\n",
      "          es       1.00      1.00      1.00       607\n",
      "          et       1.00      1.00      1.00       306\n",
      "          fi       1.00      1.00      1.00       597\n",
      "          fr       1.00      1.00      1.00       607\n",
      "          hu       1.00      1.00      1.00       309\n",
      "          it       1.00      1.00      1.00       551\n",
      "          lt       1.00      1.00      1.00       405\n",
      "          lv       1.00      1.00      1.00       392\n",
      "          nl       1.00      1.00      1.00       731\n",
      "          pl       1.00      1.00      1.00       314\n",
      "          pt       1.00      1.00      1.00       586\n",
      "          ro       1.00      1.00      1.00       291\n",
      "          sk       1.00      1.00      1.00       319\n",
      "          sl       1.00      1.00      1.00       344\n",
      "          sv       1.00      1.00      1.00       637\n",
      "\n",
      "    accuracy                           1.00     10023\n",
      "   macro avg       1.00      1.00      1.00     10023\n",
      "weighted avg       1.00      1.00      1.00     10023\n",
      "\n"
     ]
    }
   ],
   "source": [
    "print(classification_report(testList,predictionList,labels=target_label))"
   ]
  },
  {
   "cell_type": "markdown",
   "metadata": {},
   "source": [
    "#### Slight inaccuracy between Bulgarian and Czech languages. Both from the Slavic family."
   ]
  },
  {
   "cell_type": "code",
   "execution_count": null,
   "metadata": {},
   "outputs": [],
   "source": []
  }
 ],
 "metadata": {
  "kernelspec": {
   "display_name": "Python 3",
   "language": "python",
   "name": "python3"
  },
  "language_info": {
   "codemirror_mode": {
    "name": "ipython",
    "version": 3
   },
   "file_extension": ".py",
   "mimetype": "text/x-python",
   "name": "python",
   "nbconvert_exporter": "python",
   "pygments_lexer": "ipython3",
   "version": "3.5.2"
  }
 },
 "nbformat": 4,
 "nbformat_minor": 2
}
